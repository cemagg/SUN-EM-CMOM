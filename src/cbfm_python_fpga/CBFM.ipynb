{
 "cells": [
  {
   "cell_type": "markdown",
   "metadata": {},
   "source": [
    "# CBFM"
   ]
  },
  {
   "attachments": {
    "two_plate.PNG": {
     "image/png": "[encoded data removed]"
    }
   },
   "cell_type": "markdown",
   "metadata": {},
   "source": [
    "![two_plate.PNG](attachment:two_plate.PNG)"
   ]
  },
  {
   "cell_type": "code",
   "execution_count": 1,
   "metadata": {},
   "outputs": [],
   "source": [
    "import numpy as np"
   ]
  },
  {
   "cell_type": "markdown",
   "metadata": {},
   "source": [
    "## Import Zmn and Vrhs from FEKO"
   ]
  },
  {
   "cell_type": "code",
   "execution_count": 2,
   "metadata": {},
   "outputs": [],
   "source": [
    "z = np.array([\n",
    "[-0.00982588995248079 + 1.76442635059357j,  \t9.40086611080915e-05 + 0.707664191722870j,\t 9.03860709513538e-05 + 0.686613559722900j,\t  0.00845715310424566 - 0.346320450305939j,\t-0.00767177063971758 - 0.00701530091464520j,\t -0.000606303277891129 - 0.0143927838653326j, 0.00115225021727383 + 0.0110866632312536j,\t0.00567421549931169 + 0.000892252137418836j],\n",
    "[9.40086611080915e-05 + 0.707664191722870j, \t-0.00982588995248079 + 1.76442635059357j,\t 0.00845715310424566 - 0.346320450305939j,\t  9.03860709513538e-05 + 0.686613559722900j,\t-0.000606303277891129 - 0.0143927838653326j, -0.00767177063971758 - 0.00701530091464520j, 0.00567421549931169 + 0.000892252137418836j,\t0.00115225021727383 + 0.0110866632312536j],\n",
    "[9.07852445379831e-05 + 0.681661367416382j,\t    0.00845755450427532 - 0.351133972406387j,\t -0.00770689826458693 + 1.48247992992401j,\t  8.64808753249236e-05 + 0.666199922561646j,\t0.000166826750501059 + 0.0175046268850565j,\t 0.00756492139771581 + 0.0153545029461384j,\t  -0.00601607700809836 - 0.00545952655375004j,\t-0.000465389573946595 - 0.0112562021240592j],\n",
    "[0.00845755450427532 - 0.351133972406387j,\t    9.07852445379831e-05 + 0.681661367416382j,\t 8.64808753249236e-05 + 0.666199922561646j,\t  -0.00770689826458693 + 1.48247992992401j,\t0.00756492139771581 + 0.0153545029461384j,\t     0.000166826750501059 + 0.0175046268850565j,  -0.000465389573946595 - 0.0112562021240592j,\t-0.00601607700809836 - 0.00545952655375004j],\n",
    "[-0.00767179811373353 - 0.00704326992854476j,   -0.000606521440204233 - 0.0144238974899054j, 0.000166591606102884 + 0.0174861345440149j,  0.00756463780999184 + 0.0153312394395471j,\t-0.00982588995248079 + 1.76442635059357j,\t 9.40086611080915e-05 + 0.707664191722870j,\t  9.03860709513538e-05 + 0.686613559722900j,\t0.00845715310424566 - 0.346320450305939j],\n",
    "[-0.000606521440204233 - 0.0144238974899054j,\t-0.00767179811373353 - 0.00704326992854476j, 0.00756463780999184 + 0.0153312394395471j,\t  0.000166591606102884 + 0.0174861345440149j,\t9.40086611080915e-05 + 0.707664191722870j,\t -0.00982588995248079 + 1.76442635059357j,\t  0.00845715310424566 - 0.346320450305939j,\t9.03860709513538e-05 + 0.686613559722900j],\n",
    "[0.00115225801710039 + 0.0110928667709231j,\t    0.00567421223968267 + 0.000894971308298409j, -0.00601634196937084 - 0.00544102629646659j, -0.000465574936242774 - 0.0112418243661523j,\t9.07852445379831e-05 + 0.681661367416382j,\t 0.00845755450427532 - 0.351133972406387j,\t  -0.00770689826458693 + 1.48247992992401j,\t8.64808753249236e-05 + 0.666199922561646j],\n",
    "[0.00567421223968267 + 0.000894971308298409j,\t0.00115225801710039 + 0.0110928667709231j,\t -0.000465574936242774 - 0.0112418243661523j, -0.00601634196937084 - 0.00544102629646659j,\t0.00845755450427532 - 0.351133972406387j,\t 9.07852445379831e-05 + 0.681661367416382j,\t  8.64808753249236e-05 + 0.666199922561646j,\t-0.00770689826458693 + 1.48247992992401j]\n",
    "])"
   ]
  },
  {
   "cell_type": "code",
   "execution_count": 3,
   "metadata": {},
   "outputs": [
    {
     "data": {
      "text/plain": [
       "(8, 8)"
      ]
     },
     "execution_count": 3,
     "metadata": {},
     "output_type": "execute_result"
    }
   ],
   "source": [
    "z.shape"
   ]
  },
  {
   "cell_type": "code",
   "execution_count": 4,
   "metadata": {},
   "outputs": [],
   "source": [
    "v = np.array([0.00250546784369298,\n",
    "              -0.00250546784369298,\n",
    "              0.00221743479926410,\n",
    "              -0.00221743479926410,\n",
    "              0.00250546784369299,\n",
    "              -0.00250546784369299,\n",
    "              0.00221743479926409,\n",
    "              -0.00221743479926409])"
   ]
  },
  {
   "cell_type": "code",
   "execution_count": 5,
   "metadata": {},
   "outputs": [
    {
     "data": {
      "text/plain": [
       "(8,)"
      ]
     },
     "execution_count": 5,
     "metadata": {},
     "output_type": "execute_result"
    }
   ],
   "source": [
    "v.shape"
   ]
  },
  {
   "cell_type": "code",
   "execution_count": 6,
   "metadata": {},
   "outputs": [],
   "source": [
    "ifeko = np.linalg.inv(z).dot(v)\n"
   ]
  },
  {
   "cell_type": "code",
   "execution_count": 7,
   "metadata": {},
   "outputs": [
    {
     "data": {
      "text/plain": [
       "(array([-3.34799060e-05-0.00123639j,  3.34799060e-05+0.00123639j,\n",
       "         2.28159112e-07-0.00113976j, -2.28159112e-07+0.00113976j,\n",
       "        -1.38564891e-06-0.00115033j,  1.38564891e-06+0.00115033j,\n",
       "        -3.60305231e-05-0.00123697j,  3.60305231e-05+0.00123697j]), (8,))"
      ]
     },
     "execution_count": 7,
     "metadata": {},
     "output_type": "execute_result"
    }
   ],
   "source": [
    "ifeko, ifeko.shape"
   ]
  },
  {
   "cell_type": "markdown",
   "metadata": {},
   "source": [
    "## Separate Zmn and Vrhs into blocks based on domains"
   ]
  },
  {
   "cell_type": "code",
   "execution_count": 8,
   "metadata": {},
   "outputs": [],
   "source": [
    "z11 = z[0:4, 0:4] #self block 1\n",
    "z12 = z[0:4, 4:8] #coupling\n",
    "z22 = z[4:8, 4:8] #self block 2\n",
    "z21 = z[4:8, 0:4] #coupling"
   ]
  },
  {
   "cell_type": "code",
   "execution_count": 9,
   "metadata": {},
   "outputs": [
    {
     "data": {
      "text/plain": [
       "array([[-9.82588995e-03+1.76442635j,  9.40086611e-05+0.70766419j,\n",
       "         9.03860710e-05+0.68661356j,  8.45715310e-03-0.34632045j],\n",
       "       [ 9.40086611e-05+0.70766419j, -9.82588995e-03+1.76442635j,\n",
       "         8.45715310e-03-0.34632045j,  9.03860710e-05+0.68661356j],\n",
       "       [ 9.07852445e-05+0.68166137j,  8.45755450e-03-0.35113397j,\n",
       "        -7.70689826e-03+1.48247993j,  8.64808753e-05+0.66619992j],\n",
       "       [ 8.45755450e-03-0.35113397j,  9.07852445e-05+0.68166137j,\n",
       "         8.64808753e-05+0.66619992j, -7.70689826e-03+1.48247993j]])"
      ]
     },
     "execution_count": 9,
     "metadata": {},
     "output_type": "execute_result"
    }
   ],
   "source": [
    "z11"
   ]
  },
  {
   "cell_type": "code",
   "execution_count": 10,
   "metadata": {},
   "outputs": [
    {
     "data": {
      "text/plain": [
       "array([[-0.00767177-0.0070153j , -0.0006063 -0.01439278j,\n",
       "         0.00115225+0.01108666j,  0.00567422+0.00089225j],\n",
       "       [-0.0006063 -0.01439278j, -0.00767177-0.0070153j ,\n",
       "         0.00567422+0.00089225j,  0.00115225+0.01108666j],\n",
       "       [ 0.00016683+0.01750463j,  0.00756492+0.0153545j ,\n",
       "        -0.00601608-0.00545953j, -0.00046539-0.0112562j ],\n",
       "       [ 0.00756492+0.0153545j ,  0.00016683+0.01750463j,\n",
       "        -0.00046539-0.0112562j , -0.00601608-0.00545953j]])"
      ]
     },
     "execution_count": 10,
     "metadata": {},
     "output_type": "execute_result"
    }
   ],
   "source": [
    "z12"
   ]
  },
  {
   "cell_type": "code",
   "execution_count": 11,
   "metadata": {},
   "outputs": [
    {
     "data": {
      "text/plain": [
       "array([[-0.0076718 -0.00704327j, -0.00060652-0.0144239j ,\n",
       "         0.00016659+0.01748613j,  0.00756464+0.01533124j],\n",
       "       [-0.00060652-0.0144239j , -0.0076718 -0.00704327j,\n",
       "         0.00756464+0.01533124j,  0.00016659+0.01748613j],\n",
       "       [ 0.00115226+0.01109287j,  0.00567421+0.00089497j,\n",
       "        -0.00601634-0.00544103j, -0.00046557-0.01124182j],\n",
       "       [ 0.00567421+0.00089497j,  0.00115226+0.01109287j,\n",
       "        -0.00046557-0.01124182j, -0.00601634-0.00544103j]])"
      ]
     },
     "execution_count": 11,
     "metadata": {},
     "output_type": "execute_result"
    }
   ],
   "source": [
    "z21"
   ]
  },
  {
   "cell_type": "code",
   "execution_count": 12,
   "metadata": {},
   "outputs": [
    {
     "data": {
      "text/plain": [
       "array([[-9.82588995e-03+1.76442635j,  9.40086611e-05+0.70766419j,\n",
       "         9.03860710e-05+0.68661356j,  8.45715310e-03-0.34632045j],\n",
       "       [ 9.40086611e-05+0.70766419j, -9.82588995e-03+1.76442635j,\n",
       "         8.45715310e-03-0.34632045j,  9.03860710e-05+0.68661356j],\n",
       "       [ 9.07852445e-05+0.68166137j,  8.45755450e-03-0.35113397j,\n",
       "        -7.70689826e-03+1.48247993j,  8.64808753e-05+0.66619992j],\n",
       "       [ 8.45755450e-03-0.35113397j,  9.07852445e-05+0.68166137j,\n",
       "         8.64808753e-05+0.66619992j, -7.70689826e-03+1.48247993j]])"
      ]
     },
     "execution_count": 12,
     "metadata": {},
     "output_type": "execute_result"
    }
   ],
   "source": [
    "z22"
   ]
  },
  {
   "cell_type": "code",
   "execution_count": 13,
   "metadata": {},
   "outputs": [],
   "source": [
    "v1 = v[0:4]\n",
    "v2 = v[4:8]"
   ]
  },
  {
   "cell_type": "code",
   "execution_count": 14,
   "metadata": {},
   "outputs": [
    {
     "data": {
      "text/plain": [
       "array([ 0.00250547, -0.00250547,  0.00221743, -0.00221743])"
      ]
     },
     "execution_count": 14,
     "metadata": {},
     "output_type": "execute_result"
    }
   ],
   "source": [
    "v1"
   ]
  },
  {
   "cell_type": "code",
   "execution_count": 15,
   "metadata": {},
   "outputs": [
    {
     "data": {
      "text/plain": [
       "array([ 0.00250547, -0.00250547,  0.00221743, -0.00221743])"
      ]
     },
     "execution_count": 15,
     "metadata": {},
     "output_type": "execute_result"
    }
   ],
   "source": [
    "v2"
   ]
  },
  {
   "cell_type": "markdown",
   "metadata": {},
   "source": [
    "## Primary CBF's"
   ]
  },
  {
   "cell_type": "code",
   "execution_count": 16,
   "metadata": {},
   "outputs": [],
   "source": [
    "j_prim_1 = np.linalg.inv(z11).dot(v1)"
   ]
  },
  {
   "cell_type": "code",
   "execution_count": 17,
   "metadata": {},
   "outputs": [],
   "source": [
    "j_prim_2 = np.linalg.inv(z22).dot(v2)"
   ]
  },
  {
   "cell_type": "code",
   "execution_count": 18,
   "metadata": {},
   "outputs": [
    {
     "data": {
      "text/plain": [
       "(array([-1.03565086e-05-0.00120121j,  1.03565086e-05+0.00120121j,\n",
       "        -1.06320139e-05-0.00119648j,  1.06320139e-05+0.00119648j]), (4,))"
      ]
     },
     "execution_count": 18,
     "metadata": {},
     "output_type": "execute_result"
    }
   ],
   "source": [
    "j_prim_1, j_prim_1.shape"
   ]
  },
  {
   "cell_type": "code",
   "execution_count": 19,
   "metadata": {},
   "outputs": [
    {
     "data": {
      "text/plain": [
       "(array([-1.03565086e-05-0.00120121j,  1.03565086e-05+0.00120121j,\n",
       "        -1.06320139e-05-0.00119648j,  1.06320139e-05+0.00119648j]), (4,))"
      ]
     },
     "execution_count": 19,
     "metadata": {},
     "output_type": "execute_result"
    }
   ],
   "source": [
    "j_prim_2, j_prim_2.shape"
   ]
  },
  {
   "cell_type": "markdown",
   "metadata": {},
   "source": [
    "## Secondary CBF's"
   ]
  },
  {
   "cell_type": "code",
   "execution_count": 20,
   "metadata": {},
   "outputs": [],
   "source": [
    "j_sec_1_on_2 = np.linalg.inv(z11).dot(-np.linalg.inv(z12).dot(j_prim_2))"
   ]
  },
  {
   "cell_type": "code",
   "execution_count": 21,
   "metadata": {},
   "outputs": [],
   "source": [
    "j_sec_2_on_1 = np.linalg.inv(z22).dot(-np.linalg.inv(z21).dot(j_prim_1))"
   ]
  },
  {
   "cell_type": "code",
   "execution_count": 22,
   "metadata": {},
   "outputs": [
    {
     "data": {
      "text/plain": [
       "(array([ 0.23971757-3.42964589j, -0.23971757+3.42964589j,\n",
       "        -0.23571011+3.84620293j,  0.23571011-3.84620293j]), (4,))"
      ]
     },
     "execution_count": 22,
     "metadata": {},
     "output_type": "execute_result"
    }
   ],
   "source": [
    "j_sec_1_on_2, j_sec_1_on_2.shape"
   ]
  },
  {
   "cell_type": "code",
   "execution_count": 23,
   "metadata": {},
   "outputs": [
    {
     "data": {
      "text/plain": [
       "(array([ 1.0592769 +2.53018119j, -1.0592769 -2.53018119j,\n",
       "        -1.16157661-2.88679099j,  1.16157661+2.88679099j]), (4,))"
      ]
     },
     "execution_count": 23,
     "metadata": {},
     "output_type": "execute_result"
    }
   ],
   "source": [
    "j_sec_2_on_1, j_sec_2_on_1.shape"
   ]
  },
  {
   "cell_type": "markdown",
   "metadata": {},
   "source": [
    "## Concatenating J vectors"
   ]
  },
  {
   "cell_type": "code",
   "execution_count": 24,
   "metadata": {},
   "outputs": [],
   "source": [
    "j_cbfm_1 = np.transpose(np.vstack((j_prim_1, j_sec_1_on_2)))"
   ]
  },
  {
   "cell_type": "code",
   "execution_count": 25,
   "metadata": {},
   "outputs": [],
   "source": [
    "j_cbfm_2 = np.transpose(np.vstack((j_prim_2, j_sec_2_on_1)))"
   ]
  },
  {
   "cell_type": "code",
   "execution_count": 26,
   "metadata": {},
   "outputs": [
    {
     "data": {
      "text/plain": [
       "(array([[-1.03565086e-05-1.20121041e-03j,  2.39717568e-01-3.42964589e+00j],\n",
       "        [ 1.03565086e-05+1.20121041e-03j, -2.39717568e-01+3.42964589e+00j],\n",
       "        [-1.06320139e-05-1.19647764e-03j, -2.35710108e-01+3.84620293e+00j],\n",
       "        [ 1.06320139e-05+1.19647764e-03j,  2.35710108e-01-3.84620293e+00j]]),\n",
       " (4, 2))"
      ]
     },
     "execution_count": 26,
     "metadata": {},
     "output_type": "execute_result"
    }
   ],
   "source": [
    "j_cbfm_1, j_cbfm_1.shape"
   ]
  },
  {
   "cell_type": "code",
   "execution_count": 27,
   "metadata": {},
   "outputs": [
    {
     "data": {
      "text/plain": [
       "(array([[-1.03565086e-05-1.20121041e-03j,  1.05927690e+00+2.53018119e+00j],\n",
       "        [ 1.03565086e-05+1.20121041e-03j, -1.05927690e+00-2.53018119e+00j],\n",
       "        [-1.06320139e-05-1.19647764e-03j, -1.16157661e+00-2.88679099e+00j],\n",
       "        [ 1.06320139e-05+1.19647764e-03j,  1.16157661e+00+2.88679099e+00j]]),\n",
       " (4, 2))"
      ]
     },
     "execution_count": 27,
     "metadata": {},
     "output_type": "execute_result"
    }
   ],
   "source": [
    "j_cbfm_2, j_cbfm_2.shape"
   ]
  },
  {
   "cell_type": "markdown",
   "metadata": {},
   "source": [
    "## Reduced Equation"
   ]
  },
  {
   "cell_type": "markdown",
   "metadata": {},
   "source": [
    "### Zred"
   ]
  },
  {
   "cell_type": "code",
   "execution_count": 28,
   "metadata": {},
   "outputs": [],
   "source": [
    "z_cbfm_1_1 = np.transpose(j_cbfm_1).dot(z11.dot(j_cbfm_1))"
   ]
  },
  {
   "cell_type": "code",
   "execution_count": 29,
   "metadata": {},
   "outputs": [],
   "source": [
    "z_cbfm_1_2 = np.transpose(j_cbfm_1).dot(z12.dot(j_cbfm_2))"
   ]
  },
  {
   "cell_type": "code",
   "execution_count": 30,
   "metadata": {},
   "outputs": [],
   "source": [
    "z_cbfm_2_1 = np.transpose(j_cbfm_2).dot(z21.dot(j_cbfm_1))"
   ]
  },
  {
   "cell_type": "code",
   "execution_count": 31,
   "metadata": {},
   "outputs": [],
   "source": [
    "z_cbfm_2_2 = np.transpose(j_cbfm_2).dot(z22.dot(j_cbfm_2))"
   ]
  },
  {
   "cell_type": "code",
   "execution_count": 32,
   "metadata": {},
   "outputs": [
    {
     "data": {
      "text/plain": [
       "(array([[-9.90473938e-08-1.13254104e-05j,  1.55728851e-04-1.25905715e-04j],\n",
       "        [ 1.55865723e-04-1.28326506e-04j, -6.91359660e-01+5.46904770e+00j]]),\n",
       " (2, 2))"
      ]
     },
     "execution_count": 32,
     "metadata": {},
     "output_type": "execute_result"
    }
   ],
   "source": [
    "z_cbfm_1_1, z_cbfm_1_1.shape"
   ]
  },
  {
   "cell_type": "code",
   "execution_count": 33,
   "metadata": {},
   "outputs": [
    {
     "data": {
      "text/plain": [
       "(array([[ 6.92567092e-08-7.45985544e-08j, -3.87590548e-05-4.38609489e-05j],\n",
       "        [-1.91384725e-05-7.17274883e-05j, -6.27705849e-03+1.68002935e-02j]]),\n",
       " (2, 2))"
      ]
     },
     "execution_count": 33,
     "metadata": {},
     "output_type": "execute_result"
    }
   ],
   "source": [
    "z_cbfm_1_2, z_cbfm_1_2.shape"
   ]
  },
  {
   "cell_type": "code",
   "execution_count": 34,
   "metadata": {},
   "outputs": [
    {
     "data": {
      "text/plain": [
       "(array([[ 6.92554341e-08-7.46431506e-08j, -1.91413981e-05-7.17000712e-05j],\n",
       "        [-3.87582620e-05-4.38663959e-05j, -6.28252216e-03+1.67839474e-02j]]),\n",
       " (2, 2))"
      ]
     },
     "execution_count": 34,
     "metadata": {},
     "output_type": "execute_result"
    }
   ],
   "source": [
    "z_cbfm_2_1, z_cbfm_2_1.shape"
   ]
  },
  {
   "cell_type": "code",
   "execution_count": 35,
   "metadata": {},
   "outputs": [
    {
     "data": {
      "text/plain": [
       "(array([[-9.90473938e-08-1.13254104e-05j,  1.55773370e-04-1.25761238e-04j],\n",
       "        [ 1.56527625e-04-1.23966399e-04j,  2.50845895e+00+2.52177774e+00j]]),\n",
       " (2, 2))"
      ]
     },
     "execution_count": 35,
     "metadata": {},
     "output_type": "execute_result"
    }
   ],
   "source": [
    "z_cbfm_2_2, z_cbfm_2_2.shape"
   ]
  },
  {
   "cell_type": "markdown",
   "metadata": {},
   "source": [
    "### Vred"
   ]
  },
  {
   "cell_type": "code",
   "execution_count": 36,
   "metadata": {},
   "outputs": [],
   "source": [
    "v_cbfm_1 = np.transpose(j_cbfm_1).dot(v1)"
   ]
  },
  {
   "cell_type": "code",
   "execution_count": 37,
   "metadata": {},
   "outputs": [],
   "source": [
    "v_cbfm_2 = np.transpose(j_cbfm_2).dot(v2)"
   ]
  },
  {
   "cell_type": "code",
   "execution_count": 38,
   "metadata": {},
   "outputs": [
    {
     "data": {
      "text/plain": [
       "(array([-9.90473938e-08-1.13254104e-05j,  1.55865723e-04-1.28326506e-04j]),\n",
       " (2,))"
      ]
     },
     "execution_count": 38,
     "metadata": {},
     "output_type": "execute_result"
    }
   ],
   "source": [
    "v_cbfm_1, v_cbfm_1.shape"
   ]
  },
  {
   "cell_type": "code",
   "execution_count": 39,
   "metadata": {},
   "outputs": [
    {
     "data": {
      "text/plain": [
       "(array([-9.90473938e-08-1.13254104e-05j,  1.56527625e-04-1.23966399e-04j]),\n",
       " (2,))"
      ]
     },
     "execution_count": 39,
     "metadata": {},
     "output_type": "execute_result"
    }
   ],
   "source": [
    "v_cbfm_2, v_cbfm_2.shape"
   ]
  },
  {
   "cell_type": "markdown",
   "metadata": {},
   "source": [
    "### Concatenate Zred and Vred"
   ]
  },
  {
   "cell_type": "code",
   "execution_count": 40,
   "metadata": {},
   "outputs": [],
   "source": [
    "z_col_block_1 = np.vstack((z_cbfm_1_1, z_cbfm_2_1))\n",
    "z_col_block_2 = np.vstack((z_cbfm_2_1, z_cbfm_2_2))\n",
    "ZCBFM = np.hstack((z_col_block_1, z_col_block_2))"
   ]
  },
  {
   "cell_type": "code",
   "execution_count": 41,
   "metadata": {},
   "outputs": [
    {
     "data": {
      "text/plain": [
       "array([[-9.90473938e-08-1.13254104e-05j,  1.55728851e-04-1.25905715e-04j],\n",
       "       [ 1.55865723e-04-1.28326506e-04j, -6.91359660e-01+5.46904770e+00j],\n",
       "       [ 6.92554341e-08-7.46431506e-08j, -1.91413981e-05-7.17000712e-05j],\n",
       "       [-3.87582620e-05-4.38663959e-05j, -6.28252216e-03+1.67839474e-02j]])"
      ]
     },
     "execution_count": 41,
     "metadata": {},
     "output_type": "execute_result"
    }
   ],
   "source": [
    "z_col_block_1"
   ]
  },
  {
   "cell_type": "code",
   "execution_count": 42,
   "metadata": {},
   "outputs": [
    {
     "data": {
      "text/plain": [
       "array([[ 6.92554341e-08-7.46431506e-08j, -1.91413981e-05-7.17000712e-05j],\n",
       "       [-3.87582620e-05-4.38663959e-05j, -6.28252216e-03+1.67839474e-02j],\n",
       "       [-9.90473938e-08-1.13254104e-05j,  1.55773370e-04-1.25761238e-04j],\n",
       "       [ 1.56527625e-04-1.23966399e-04j,  2.50845895e+00+2.52177774e+00j]])"
      ]
     },
     "execution_count": 42,
     "metadata": {},
     "output_type": "execute_result"
    }
   ],
   "source": [
    "z_col_block_2"
   ]
  },
  {
   "cell_type": "code",
   "execution_count": 43,
   "metadata": {},
   "outputs": [
    {
     "data": {
      "text/plain": [
       "array([[-9.90473938e-08-1.13254104e-05j,  1.55728851e-04-1.25905715e-04j,\n",
       "         6.92554341e-08-7.46431506e-08j, -1.91413981e-05-7.17000712e-05j],\n",
       "       [ 1.55865723e-04-1.28326506e-04j, -6.91359660e-01+5.46904770e+00j,\n",
       "        -3.87582620e-05-4.38663959e-05j, -6.28252216e-03+1.67839474e-02j],\n",
       "       [ 6.92554341e-08-7.46431506e-08j, -1.91413981e-05-7.17000712e-05j,\n",
       "        -9.90473938e-08-1.13254104e-05j,  1.55773370e-04-1.25761238e-04j],\n",
       "       [-3.87582620e-05-4.38663959e-05j, -6.28252216e-03+1.67839474e-02j,\n",
       "         1.56527625e-04-1.23966399e-04j,  2.50845895e+00+2.52177774e+00j]])"
      ]
     },
     "execution_count": 43,
     "metadata": {},
     "output_type": "execute_result"
    }
   ],
   "source": [
    "ZCBFM"
   ]
  },
  {
   "cell_type": "code",
   "execution_count": 44,
   "metadata": {},
   "outputs": [],
   "source": [
    "VCBFM = np.hstack((v_cbfm_1, v_cbfm_2))"
   ]
  },
  {
   "cell_type": "code",
   "execution_count": 45,
   "metadata": {},
   "outputs": [
    {
     "data": {
      "text/plain": [
       "(array([-9.90473938e-08-1.13254104e-05j,  1.55865723e-04-1.28326506e-04j,\n",
       "        -9.90473938e-08-1.13254104e-05j,  1.56527625e-04-1.23966399e-04j]),\n",
       " (4,))"
      ]
     },
     "execution_count": 45,
     "metadata": {},
     "output_type": "execute_result"
    }
   ],
   "source": [
    "VCBFM, VCBFM.shape"
   ]
  },
  {
   "cell_type": "markdown",
   "metadata": {},
   "source": [
    "### Get ICBFM"
   ]
  },
  {
   "cell_type": "code",
   "execution_count": 46,
   "metadata": {},
   "outputs": [],
   "source": [
    "ICBFM = np.linalg.inv(ZCBFM).dot(VCBFM)"
   ]
  },
  {
   "cell_type": "code",
   "execution_count": 47,
   "metadata": {},
   "outputs": [
    {
     "data": {
      "text/plain": [
       "(array([9.93171794e-01-6.06898309e-03j, 6.83402906e-06-8.31098000e-06j,\n",
       "        9.93264757e-01-6.26292523e-03j, 1.66614225e-05+5.15735202e-07j]), (4,))"
      ]
     },
     "execution_count": 47,
     "metadata": {},
     "output_type": "execute_result"
    }
   ],
   "source": [
    "ICBFM, ICBFM.shape"
   ]
  },
  {
   "cell_type": "markdown",
   "metadata": {},
   "source": [
    "## Solve IRWG"
   ]
  },
  {
   "cell_type": "code",
   "execution_count": 48,
   "metadata": {},
   "outputs": [],
   "source": [
    "irwg_1 = (ICBFM[0] * j_prim_1) + (ICBFM[1] * j_sec_1_on_2)"
   ]
  },
  {
   "cell_type": "code",
   "execution_count": 49,
   "metadata": {},
   "outputs": [],
   "source": [
    "irwg_2 = (ICBFM[2] * j_prim_2) + (ICBFM[3] * j_sec_2_on_1)"
   ]
  },
  {
   "cell_type": "code",
   "execution_count": 50,
   "metadata": {},
   "outputs": [
    {
     "data": {
      "text/plain": [
       "(array([-4.44413994e-05-0.00121838j,  4.44413994e-05+0.00121838j,\n",
       "         1.25340470e-05-0.00116j   , -1.25340470e-05+0.00116j   ]), 4)"
      ]
     },
     "execution_count": 50,
     "metadata": {},
     "output_type": "execute_result"
    }
   ],
   "source": [
    "irwg_1, irwg_1.size"
   ]
  },
  {
   "cell_type": "code",
   "execution_count": 51,
   "metadata": {},
   "outputs": [
    {
     "data": {
      "text/plain": [
       "(array([-1.46568955e-06-0.00115035j,  1.46568955e-06+0.00115035j,\n",
       "        -3.59185536e-05-0.00123705j,  3.59185536e-05+0.00123705j]), 4)"
      ]
     },
     "execution_count": 51,
     "metadata": {},
     "output_type": "execute_result"
    }
   ],
   "source": [
    "irwg_2, irwg_2.size"
   ]
  },
  {
   "cell_type": "code",
   "execution_count": 52,
   "metadata": {},
   "outputs": [],
   "source": [
    "IRWG = np.hstack((irwg_1, irwg_2))"
   ]
  },
  {
   "cell_type": "code",
   "execution_count": 53,
   "metadata": {},
   "outputs": [
    {
     "data": {
      "text/plain": [
       "array([-4.44413994e-05-0.00121838j,  4.44413994e-05+0.00121838j,\n",
       "        1.25340470e-05-0.00116j   , -1.25340470e-05+0.00116j   ,\n",
       "       -1.46568955e-06-0.00115035j,  1.46568955e-06+0.00115035j,\n",
       "       -3.59185536e-05-0.00123705j,  3.59185536e-05+0.00123705j])"
      ]
     },
     "execution_count": 53,
     "metadata": {},
     "output_type": "execute_result"
    }
   ],
   "source": [
    "IRWG"
   ]
  },
  {
   "cell_type": "code",
   "execution_count": 54,
   "metadata": {},
   "outputs": [
    {
     "data": {
      "text/plain": [
       "array([-3.34799060e-05-0.00123639j,  3.34799060e-05+0.00123639j,\n",
       "        2.28159112e-07-0.00113976j, -2.28159112e-07+0.00113976j,\n",
       "       -1.38564891e-06-0.00115033j,  1.38564891e-06+0.00115033j,\n",
       "       -3.60305231e-05-0.00123697j,  3.60305231e-05+0.00123697j])"
      ]
     },
     "execution_count": 54,
     "metadata": {},
     "output_type": "execute_result"
    }
   ],
   "source": [
    "ifeko"
   ]
  },
  {
   "cell_type": "markdown",
   "metadata": {},
   "source": [
    "## Error"
   ]
  },
  {
   "cell_type": "code",
   "execution_count": 55,
   "metadata": {},
   "outputs": [],
   "source": [
    "diff_sum = 0\n",
    "ref_sum = 0\n",
    "\n",
    "for i in range(ifeko.size):\n",
    "    diff_sum = diff_sum + np.power((np.abs(IRWG[i] - ifeko[i])) , 2)\n",
    "    ref_sum = ref_sum + np.power(np.abs(ifeko[i]), 2)\n",
    "    \n",
    "error_norm_percentage = (np.sqrt(diff_sum) / np.sqrt(ref_sum)) * 100"
   ]
  },
  {
   "cell_type": "code",
   "execution_count": 56,
   "metadata": {},
   "outputs": [
    {
     "data": {
      "text/plain": [
       "1.3303616325760814"
      ]
     },
     "execution_count": 56,
     "metadata": {},
     "output_type": "execute_result"
    }
   ],
   "source": [
    "error_norm_percentage"
   ]
  },
  {
   "cell_type": "code",
   "execution_count": null,
   "metadata": {},
   "outputs": [],
   "source": []
  }
 ],
 "metadata": {
  "kernelspec": {
   "display_name": "Python 2",
   "language": "python",
   "name": "python2"
  },
  "language_info": {
   "codemirror_mode": {
    "name": "ipython",
    "version": 2
   },
   "file_extension": ".py",
   "mimetype": "text/x-python",
   "name": "python",
   "nbconvert_exporter": "python",
   "pygments_lexer": "ipython2",
   "version": "2.7.15rc1"
  }
 },
 "nbformat": 4,
 "nbformat_minor": 2
}
